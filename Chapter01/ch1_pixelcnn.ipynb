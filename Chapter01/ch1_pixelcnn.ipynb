{
 "cells": [
  {
   "cell_type": "code",
   "execution_count": 1,
   "metadata": {},
   "outputs": [
    {
     "name": "stdout",
     "output_type": "stream",
     "text": [
      "2.2.0\n"
     ]
    }
   ],
   "source": [
    "import tensorflow as tf\n",
    "from tensorflow.keras import layers\n",
    "from tensorflow.keras.activations import relu\n",
    "from tensorflow.keras.models import Sequential\n",
    "\n",
    "import tensorflow_datasets as tfds\n",
    "\n",
    "import numpy as np\n",
    "import matplotlib.pyplot as plt\n",
    "\n",
    "import warnings\n",
    "warnings.filterwarnings('ignore')\n",
    "print(tf.__version__)\n"
   ]
  },
  {
   "cell_type": "markdown",
   "metadata": {},
   "source": [
    "## Load MNIST dataset"
   ]
  },
  {
   "cell_type": "code",
   "execution_count": 2,
   "metadata": {},
   "outputs": [],
   "source": [
    "(ds_train, ds_test), ds_info = tfds.load('mnist', \n",
    "                              split=['test', 'test'], \n",
    "                              shuffle_files=True,\n",
    "                              as_supervised=True,\n",
    "                              with_info=True)\n",
    "\n",
    "#fig = tfds.show_examples(ds_info, ds_train)\n",
    "\n",
    "def binarize(image, label):\n",
    "    image = tf.cast(image, tf.float32)\n",
    "    image = tf.math.round(image/255.)\n",
    "    return image, tf.cast(image, tf.int32)\n",
    "\n",
    "ds_train = ds_train.map(binarize)\n",
    "ds_train = ds_train.cache() # put dataset into memory\n",
    "ds_train = ds_train.shuffle(ds_info.splits['train'].num_examples)\n",
    "ds_train = ds_train.batch(64)\n",
    "ds_test = ds_test.map(binarize).batch(64).cache().prefetch(64)"
   ]
  },
  {
   "cell_type": "markdown",
   "metadata": {},
   "source": [
    "# Create Custom Layers and PixelCNN"
   ]
  },
  {
   "cell_type": "code",
   "execution_count": 4,
   "metadata": {},
   "outputs": [
    {
     "name": "stdout",
     "output_type": "stream",
     "text": [
      "Model: \"PixelCnn\"\n",
      "_________________________________________________________________\n",
      "Layer (type)                 Output Shape              Param #   \n",
      "=================================================================\n",
      "input_1 (InputLayer)         [(None, 28, 28, 1)]       0         \n",
      "_________________________________________________________________\n",
      "masked_conv2d (MaskedConv2D) (None, 28, 28, 128)       6400      \n",
      "_________________________________________________________________\n",
      "residual_block (ResidualBloc (None, 28, 28, 128)       53504     \n",
      "_________________________________________________________________\n",
      "residual_block_1 (ResidualBl (None, 28, 28, 128)       53504     \n",
      "_________________________________________________________________\n",
      "residual_block_2 (ResidualBl (None, 28, 28, 128)       53504     \n",
      "_________________________________________________________________\n",
      "residual_block_3 (ResidualBl (None, 28, 28, 128)       53504     \n",
      "_________________________________________________________________\n",
      "residual_block_4 (ResidualBl (None, 28, 28, 128)       53504     \n",
      "_________________________________________________________________\n",
      "residual_block_5 (ResidualBl (None, 28, 28, 128)       53504     \n",
      "_________________________________________________________________\n",
      "residual_block_6 (ResidualBl (None, 28, 28, 128)       53504     \n",
      "_________________________________________________________________\n",
      "conv2d (Conv2D)              (None, 28, 28, 64)        8256      \n",
      "_________________________________________________________________\n",
      "conv2d_1 (Conv2D)            (None, 28, 28, 1)         65        \n",
      "=================================================================\n",
      "Total params: 389,249\n",
      "Trainable params: 389,249\n",
      "Non-trainable params: 0\n",
      "_________________________________________________________________\n"
     ]
    }
   ],
   "source": [
    "class MaskedConv2D(layers.Layer):\n",
    "    def __init__(self, mask_type, kernel=5, filters=1):\n",
    "        super(MaskedConv2D, self).__init__()\n",
    "        self.kernel = kernel\n",
    "        self.filters = filters\n",
    "        self.mask_type = mask_type\n",
    "        \n",
    "    def build(self, input_shape):\n",
    "\n",
    "        self.w = self.add_weight(shape=[self.kernel,\n",
    "                                        self.kernel,\n",
    "                                        input_shape[-1],\n",
    "                                        self.filters],\n",
    "                                initializer='glorot_normal',\n",
    "                                trainable=True)\n",
    "        \n",
    "        self.b = self.add_weight(shape=(self.filters,),\n",
    "                                initializer='zeros',\n",
    "                                trainable=True)\n",
    "        # Create Mask \n",
    "        mask = np.ones(self.kernel**2, dtype=np.float32)\n",
    "        center = len(mask)//2\n",
    "        mask[center+1:] = 0\n",
    "        if self.mask_type == 'A':\n",
    "            mask[center] = 0\n",
    "            \n",
    "        mask = mask.reshape((self.kernel, self.kernel, 1, 1))\n",
    "        \n",
    "        self.mask = tf.constant(mask, dtype='float32')\n",
    "        \n",
    "    def call(self, inputs):\n",
    "        # mask the convolution\n",
    "        masked_w = tf.math.multiply(self.w, self.mask)\n",
    "\n",
    "        # perform conv2d using low level API\n",
    "        output = tf.nn.conv2d(inputs, masked_w, 1, \"SAME\") + self.b\n",
    "        \n",
    "        return tf.nn.relu(output)\n",
    "    \n",
    "class ResidualBlock(layers.Layer):\n",
    "    def __init__(self, h=32):\n",
    "        super(ResidualBlock, self).__init__()\n",
    "\n",
    "        self.forward = Sequential([MaskedConv2D('B', kernel=1, filters=h),\n",
    "                                   MaskedConv2D('B', kernel=3, filters=h),\n",
    "                                   MaskedConv2D('B', kernel=1, filters=2*h)])         \n",
    "    def call(self, inputs):\n",
    "        x = self.forward(inputs)\n",
    "        return x + inputs\n",
    "    \n",
    "def SimplePixelCnn(hidden_features=64, \n",
    "                   output_features=64, \n",
    "                   resblocks_num=7):\n",
    "\n",
    "    inputs  = layers.Input(shape=[28,28,1])\n",
    "    x = inputs\n",
    "    \n",
    "    x = MaskedConv2D('A',kernel=7, filters=2*hidden_features)(x)\n",
    "\n",
    "    for _ in range(resblocks_num):\n",
    "        x = ResidualBlock(hidden_features)(x)\n",
    "        \n",
    "    x = layers.Conv2D(output_features, (1,1), padding='same', activation='relu')(x)    \n",
    "    x = layers.Conv2D(1, (1,1), padding='same', activation='sigmoid')(x)\n",
    "            \n",
    "    return tf.keras.Model(inputs=inputs, outputs=x, name='PixelCnn')\n",
    "\n",
    "pixel_cnn = SimplePixelCnn()\n",
    "pixel_cnn.summary()"
   ]
  },
  {
   "cell_type": "markdown",
   "metadata": {},
   "source": [
    "# Train"
   ]
  },
  {
   "cell_type": "code",
   "execution_count": 7,
   "metadata": {},
   "outputs": [
    {
     "name": "stdout",
     "output_type": "stream",
     "text": [
      "Epoch 1/50\n",
      "157/157 [==============================] - 7s 44ms/step - loss: 0.1447 - binary_crossentropy: 0.1445 - val_loss: 0.1209 - val_binary_crossentropy: 0.1209\n",
      "Epoch 2/50\n",
      "157/157 [==============================] - 7s 42ms/step - loss: 0.1027 - binary_crossentropy: 0.1028 - val_loss: 0.1085 - val_binary_crossentropy: 0.1085\n",
      "Epoch 3/50\n",
      "157/157 [==============================] - 7s 42ms/step - loss: 0.0978 - binary_crossentropy: 0.0977 - val_loss: 0.0947 - val_binary_crossentropy: 0.0947\n",
      "Epoch 4/50\n",
      "157/157 [==============================] - 7s 42ms/step - loss: 0.0945 - binary_crossentropy: 0.0945 - val_loss: 0.0930 - val_binary_crossentropy: 0.0930\n",
      "Epoch 5/50\n",
      "157/157 [==============================] - 7s 42ms/step - loss: 0.0922 - binary_crossentropy: 0.0922 - val_loss: 0.0923 - val_binary_crossentropy: 0.0923\n",
      "Epoch 6/50\n",
      "157/157 [==============================] - 7s 42ms/step - loss: 0.0906 - binary_crossentropy: 0.0906 - val_loss: 0.0893 - val_binary_crossentropy: 0.0893\n",
      "Epoch 7/50\n",
      "157/157 [==============================] - 7s 42ms/step - loss: 0.0896 - binary_crossentropy: 0.0897 - val_loss: 0.0913 - val_binary_crossentropy: 0.0913\n",
      "Epoch 8/50\n",
      "157/157 [==============================] - 7s 42ms/step - loss: 0.0888 - binary_crossentropy: 0.0889 - val_loss: 0.0882 - val_binary_crossentropy: 0.0882\n",
      "Epoch 9/50\n",
      "157/157 [==============================] - 7s 42ms/step - loss: 0.0880 - binary_crossentropy: 0.0880 - val_loss: 0.0874 - val_binary_crossentropy: 0.0874\n",
      "Epoch 10/50\n",
      "157/157 [==============================] - 7s 42ms/step - loss: 0.0874 - binary_crossentropy: 0.0874 - val_loss: 0.0887 - val_binary_crossentropy: 0.0887\n",
      "Epoch 11/50\n",
      "157/157 [==============================] - 7s 42ms/step - loss: 0.0869 - binary_crossentropy: 0.0869 - val_loss: 0.0875 - val_binary_crossentropy: 0.0875\n",
      "Epoch 12/50\n",
      "157/157 [==============================] - 7s 42ms/step - loss: 0.0864 - binary_crossentropy: 0.0864 - val_loss: 0.0863 - val_binary_crossentropy: 0.0863\n",
      "Epoch 13/50\n",
      "157/157 [==============================] - 7s 42ms/step - loss: 0.0860 - binary_crossentropy: 0.0859 - val_loss: 0.0862 - val_binary_crossentropy: 0.0862\n",
      "Epoch 14/50\n",
      "157/157 [==============================] - 7s 42ms/step - loss: 0.0856 - binary_crossentropy: 0.0856 - val_loss: 0.0858 - val_binary_crossentropy: 0.0858\n",
      "Epoch 15/50\n",
      "157/157 [==============================] - 7s 42ms/step - loss: 0.0852 - binary_crossentropy: 0.0853 - val_loss: 0.0845 - val_binary_crossentropy: 0.0845\n",
      "Epoch 16/50\n",
      "157/157 [==============================] - 7s 42ms/step - loss: 0.0849 - binary_crossentropy: 0.0849 - val_loss: 0.0847 - val_binary_crossentropy: 0.0847\n",
      "Epoch 17/50\n",
      "157/157 [==============================] - 7s 42ms/step - loss: 0.0845 - binary_crossentropy: 0.0845 - val_loss: 0.0848 - val_binary_crossentropy: 0.0848\n",
      "Epoch 18/50\n",
      "157/157 [==============================] - 7s 42ms/step - loss: 0.0842 - binary_crossentropy: 0.0842 - val_loss: 0.0841 - val_binary_crossentropy: 0.0841\n",
      "Epoch 19/50\n",
      "157/157 [==============================] - 7s 42ms/step - loss: 0.0839 - binary_crossentropy: 0.0839 - val_loss: 0.0860 - val_binary_crossentropy: 0.0860\n",
      "Epoch 20/50\n",
      "157/157 [==============================] - 7s 42ms/step - loss: 0.0836 - binary_crossentropy: 0.0836 - val_loss: 0.0845 - val_binary_crossentropy: 0.0845\n",
      "Epoch 21/50\n",
      "157/157 [==============================] - 7s 42ms/step - loss: 0.0833 - binary_crossentropy: 0.0834 - val_loss: 0.0843 - val_binary_crossentropy: 0.0843\n",
      "Epoch 22/50\n",
      "157/157 [==============================] - 7s 42ms/step - loss: 0.0830 - binary_crossentropy: 0.0830 - val_loss: 0.0833 - val_binary_crossentropy: 0.0833\n",
      "Epoch 23/50\n",
      "157/157 [==============================] - 7s 42ms/step - loss: 0.0828 - binary_crossentropy: 0.0828 - val_loss: 0.0834 - val_binary_crossentropy: 0.0834\n",
      "Epoch 24/50\n",
      "157/157 [==============================] - 7s 42ms/step - loss: 0.0825 - binary_crossentropy: 0.0826 - val_loss: 0.0825 - val_binary_crossentropy: 0.0825\n",
      "Epoch 25/50\n",
      "157/157 [==============================] - 7s 42ms/step - loss: 0.0822 - binary_crossentropy: 0.0822 - val_loss: 0.0822 - val_binary_crossentropy: 0.0822\n",
      "Epoch 26/50\n",
      "157/157 [==============================] - 7s 42ms/step - loss: 0.0820 - binary_crossentropy: 0.0820 - val_loss: 0.0837 - val_binary_crossentropy: 0.0837\n",
      "Epoch 27/50\n",
      "157/157 [==============================] - 7s 42ms/step - loss: 0.0817 - binary_crossentropy: 0.0817 - val_loss: 0.0814 - val_binary_crossentropy: 0.0814\n",
      "Epoch 28/50\n",
      "157/157 [==============================] - 7s 42ms/step - loss: 0.0814 - binary_crossentropy: 0.0814 - val_loss: 0.0827 - val_binary_crossentropy: 0.0827\n",
      "Epoch 29/50\n",
      "157/157 [==============================] - 7s 42ms/step - loss: 0.0813 - binary_crossentropy: 0.0813 - val_loss: 0.0823 - val_binary_crossentropy: 0.0822\n",
      "Epoch 30/50\n",
      "157/157 [==============================] - 7s 42ms/step - loss: 0.0809 - binary_crossentropy: 0.0809 - val_loss: 0.0812 - val_binary_crossentropy: 0.0812\n",
      "Epoch 31/50\n",
      "157/157 [==============================] - 7s 42ms/step - loss: 0.0807 - binary_crossentropy: 0.0807 - val_loss: 0.0824 - val_binary_crossentropy: 0.0824\n",
      "Epoch 32/50\n",
      "157/157 [==============================] - 7s 42ms/step - loss: 0.0804 - binary_crossentropy: 0.0804 - val_loss: 0.0812 - val_binary_crossentropy: 0.0812\n",
      "Epoch 33/50\n",
      "157/157 [==============================] - 7s 42ms/step - loss: 0.0802 - binary_crossentropy: 0.0802 - val_loss: 0.0806 - val_binary_crossentropy: 0.0806\n",
      "Epoch 34/50\n",
      "157/157 [==============================] - 7s 42ms/step - loss: 0.0800 - binary_crossentropy: 0.0800 - val_loss: 0.0806 - val_binary_crossentropy: 0.0806\n",
      "Epoch 35/50\n",
      "157/157 [==============================] - 7s 42ms/step - loss: 0.0797 - binary_crossentropy: 0.0797 - val_loss: 0.0819 - val_binary_crossentropy: 0.0819\n",
      "Epoch 36/50\n",
      "157/157 [==============================] - 7s 42ms/step - loss: 0.0794 - binary_crossentropy: 0.0795 - val_loss: 0.0794 - val_binary_crossentropy: 0.0794\n",
      "Epoch 37/50\n",
      "157/157 [==============================] - 7s 42ms/step - loss: 0.0792 - binary_crossentropy: 0.0792 - val_loss: 0.0808 - val_binary_crossentropy: 0.0808\n",
      "Epoch 38/50\n",
      "157/157 [==============================] - 7s 42ms/step - loss: 0.0790 - binary_crossentropy: 0.0790 - val_loss: 0.0789 - val_binary_crossentropy: 0.0789\n",
      "Epoch 39/50\n",
      "157/157 [==============================] - 7s 42ms/step - loss: 0.0787 - binary_crossentropy: 0.0787 - val_loss: 0.0795 - val_binary_crossentropy: 0.0794\n",
      "Epoch 40/50\n",
      "157/157 [==============================] - 7s 42ms/step - loss: 0.0785 - binary_crossentropy: 0.0784 - val_loss: 0.0789 - val_binary_crossentropy: 0.0789\n",
      "Epoch 41/50\n",
      "157/157 [==============================] - 7s 42ms/step - loss: 0.0782 - binary_crossentropy: 0.0782 - val_loss: 0.0782 - val_binary_crossentropy: 0.0781\n",
      "Epoch 42/50\n",
      "157/157 [==============================] - 7s 42ms/step - loss: 0.0780 - binary_crossentropy: 0.0780 - val_loss: 0.0783 - val_binary_crossentropy: 0.0783\n",
      "Epoch 43/50\n",
      "157/157 [==============================] - 7s 42ms/step - loss: 0.0777 - binary_crossentropy: 0.0777 - val_loss: 0.0784 - val_binary_crossentropy: 0.0784\n",
      "Epoch 44/50\n",
      "157/157 [==============================] - 7s 42ms/step - loss: 0.0775 - binary_crossentropy: 0.0775 - val_loss: 0.0777 - val_binary_crossentropy: 0.0777\n",
      "Epoch 45/50\n",
      "157/157 [==============================] - 7s 42ms/step - loss: 0.0773 - binary_crossentropy: 0.0773 - val_loss: 0.0782 - val_binary_crossentropy: 0.0782\n",
      "Epoch 46/50\n",
      "157/157 [==============================] - 7s 42ms/step - loss: 0.0771 - binary_crossentropy: 0.0771 - val_loss: 0.0768 - val_binary_crossentropy: 0.0768\n",
      "Epoch 47/50\n",
      "157/157 [==============================] - 7s 42ms/step - loss: 0.0768 - binary_crossentropy: 0.0768 - val_loss: 0.0788 - val_binary_crossentropy: 0.0787\n",
      "Epoch 48/50\n",
      "157/157 [==============================] - 7s 42ms/step - loss: 0.0766 - binary_crossentropy: 0.0766 - val_loss: 0.0770 - val_binary_crossentropy: 0.0770\n",
      "Epoch 49/50\n",
      "157/157 [==============================] - 7s 42ms/step - loss: 0.0764 - binary_crossentropy: 0.0764 - val_loss: 0.0774 - val_binary_crossentropy: 0.0773\n",
      "Epoch 50/50\n"
     ]
    },
    {
     "name": "stdout",
     "output_type": "stream",
     "text": [
      "157/157 [==============================] - 7s 42ms/step - loss: 0.0761 - binary_crossentropy: 0.0761 - val_loss: 0.0779 - val_binary_crossentropy: 0.0779\n"
     ]
    },
    {
     "data": {
      "text/plain": [
       "<tensorflow.python.keras.callbacks.History at 0x7f33f011e5c0>"
      ]
     },
     "execution_count": 7,
     "metadata": {},
     "output_type": "execute_result"
    }
   ],
   "source": [
    "pixel_cnn.compile(\n",
    "    loss = tf.keras.losses.BinaryCrossentropy(),\n",
    "    optimizer=tf.keras.optimizers.RMSprop(learning_rate=0.001),\n",
    "    metrics=[tf.keras.losses.BinaryCrossentropy()])\n",
    "\n",
    "pixel_cnn.fit(ds_train, epochs = 50, validation_data=ds_test)"
   ]
  },
  {
   "cell_type": "markdown",
   "metadata": {},
   "source": [
    "# Sample and Display Images"
   ]
  },
  {
   "cell_type": "code",
   "execution_count": 9,
   "metadata": {},
   "outputs": [],
   "source": [
    "grid_row = 5\n",
    "grid_col = 5\n",
    "batch = grid_row * grid_col\n",
    "h = w = 28\n",
    "images = np.ones((batch,h,w,1), dtype=np.float32)\n",
    "\n",
    "for row in range(h):\n",
    "\n",
    "    for col in range(w):\n",
    "\n",
    "        prob = pixel_cnn.predict(images)[:,row,col,0]\n",
    "\n",
    "        pixel_samples = tf.random.categorical(tf.math.log(np.stack([1-prob, prob],1)), 1)\n",
    "\n",
    "        images[:,row,col,0] = tf.reshape(pixel_samples,[batch])\n"
   ]
  },
  {
   "cell_type": "code",
   "execution_count": 10,
   "metadata": {},
   "outputs": [
    {
     "data": {
      "image/png": "[encoded data removed]",
      "text/plain": [
       "<Figure size 396x360 with 25 Axes>"
      ]
     },
     "metadata": {
      "needs_background": "light"
     },
     "output_type": "display_data"
    }
   ],
   "source": [
    "# Display\n",
    "f, axarr = plt.subplots(grid_row, grid_col, figsize=(grid_col*1.1,grid_row))\n",
    "\n",
    "i = 0\n",
    "for row in range(grid_row):\n",
    "    for col in range(grid_col):\n",
    "        axarr[row,col].imshow(images[i,:,:,0], cmap='gray')\n",
    "        axarr[row,col].axis('off')\n",
    "        i += 1\n",
    "f.tight_layout(0.1, h_pad=0.2, w_pad=0.1)        \n",
    "plt.show()"
   ]
  },
  {
   "cell_type": "code",
   "execution_count": null,
   "metadata": {},
   "outputs": [],
   "source": []
  }
 ],
 "metadata": {
  "kernelspec": {
   "display_name": "imgentf2",
   "language": "python",
   "name": "imgentf2"
  },
  "language_info": {
   "codemirror_mode": {
    "name": "ipython",
    "version": 3
   },
   "file_extension": ".py",
   "mimetype": "text/x-python",
   "name": "python",
   "nbconvert_exporter": "python",
   "pygments_lexer": "ipython3",
   "version": "3.6.9"
  }
 },
 "nbformat": 4,
 "nbformat_minor": 4
}
