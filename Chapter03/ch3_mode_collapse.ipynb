{
 "cells": [
  {
   "cell_type": "code",
   "execution_count": 1,
   "metadata": {
    "scrolled": true
   },
   "outputs": [
    {
     "name": "stdout",
     "output_type": "stream",
     "text": [
      "Tensorflow 2.2.0\n"
     ]
    }
   ],
   "source": [
    "import tensorflow as tf\n",
    "from tensorflow.keras import layers, Model\n",
    "from tensorflow.keras.activations import relu\n",
    "from tensorflow.keras.models import Sequential, load_model\n",
    "from tensorflow.keras.losses import BinaryCrossentropy\n",
    "from tensorflow.keras.optimizers import RMSprop\n",
    "import tensorflow_datasets as tfds\n",
    "\n",
    "import numpy as np\n",
    "import matplotlib.pyplot as plt\n",
    "\n",
    "import warnings\n",
    "warnings.filterwarnings('ignore')\n",
    "print(\"Tensorflow\", tf.__version__)\n",
    "\n",
    "from gan import GAN"
   ]
  },
  {
   "cell_type": "code",
   "execution_count": 2,
   "metadata": {},
   "outputs": [],
   "source": [
    "class GAN():\n",
    "    def __init__(self, generator, discriminator):        \n",
    "        # discriminator\n",
    "        self.D = discriminator\n",
    "        self.G = generator\n",
    "\n",
    "        self.bce = tf.keras.losses.BinaryCrossentropy()\n",
    "        self.d_loss = {}\n",
    "        self.g_loss = {}\n",
    "        self.accuracy = {}        \n",
    "        self.g_gradients = []\n",
    "\n",
    "    def discriminator_loss(self, pred_fake, pred_real):\n",
    "        real_loss = self.bce(tf.ones_like(pred_real), pred_real)\n",
    "        fake_loss = self.bce(tf.zeros_like(pred_fake), pred_fake)\n",
    "        \n",
    "        d_loss = 0.5*(real_loss + fake_loss)\n",
    "        return d_loss\n",
    "    \n",
    "    def generator_loss(self, pred_fake):\n",
    "        g_loss = self.bce(tf.ones_like(pred_fake), pred_fake)\n",
    "        return g_loss\n",
    "    \n",
    "    def train_step(self, g_input, real_input):\n",
    "\n",
    "        with tf.GradientTape() as g_tape,\\\n",
    "             tf.GradientTape() as d_tape:\n",
    "            # Feed forward\n",
    "            fake_input = self.G(g_input)\n",
    "\n",
    "            pred_fake = self.D(fake_input)\n",
    "            pred_real = self.D(real_input)\n",
    "\n",
    "            # Calculate losses\n",
    "            d_loss = self.discriminator_loss(pred_fake, pred_real)\n",
    "            g_loss = self.generator_loss(pred_fake)\n",
    "            \n",
    "            # Accuracy\n",
    "            fake_accuracy = tf.math.reduce_mean(binary_accuracy(tf.zeros_like(pred_fake), pred_fake))\n",
    "            real_accuracy = tf.math.reduce_mean(binary_accuracy(tf.ones_like(pred_real), pred_real))\n",
    "            \n",
    "            # backprop gradients\n",
    "            gradient_g = g_tape.gradient(g_loss, self.G.trainable_variables)\n",
    "            gradient_d = d_tape.gradient(d_loss, self.D.trainable_variables)\n",
    "            \n",
    "            gradient_g_l1_norm = [tf.norm(gradient).numpy() for gradient in gradient_g]\n",
    "            self.g_gradients.append(gradient_g_l1_norm) \n",
    "            # update weights\n",
    "            self.G_optimizer.apply_gradients(zip(gradient_g, self.G.trainable_variables))\n",
    "            self.D_optimizer.apply_gradients(zip(gradient_d, self.D.trainable_variables))\n",
    "\n",
    "\n",
    "        return g_loss, d_loss, fake_accuracy, real_accuracy\n",
    "    \n",
    "    def train(self, data_generator, \n",
    "                    z_generator,\n",
    "                    g_optimizer, d_optimizer,\n",
    "                    steps, interval=100):\n",
    "        self.D_optimizer = d_optimizer\n",
    "        self.G_optimizer = g_optimizer          \n",
    "        val_g_input = next(z_generator)\n",
    "        for i in range(steps):\n",
    "            g_input = next(z_generator)\n",
    "            real_input = next(data_generator)\n",
    "            \n",
    "            g_loss, d_loss, fake_accuracy, real_accuracy = self.train_step(g_input, real_input)\n",
    "            self.d_loss[i] = d_loss.numpy()\n",
    "            self.g_loss[i] = g_loss.numpy()\n",
    "            self.accuracy[i] = 0.5*(fake_accuracy.numpy() + real_accuracy.numpy())\n",
    "            if i%interval == 0:\n",
    "                msg = \"Step {}: d_loss {:.4f} g_loss {:.4f} Accuracy. real : {:.3f} fake : {:.3f}\"\\\n",
    "                .format(i, d_loss, g_loss, real_accuracy, fake_accuracy)\n",
    "                print(msg)\n",
    "                \n",
    "                fake_images = self.G(val_g_input)\n",
    "                self.plot_images(fake_images)\n",
    "\n",
    "    def plot_images(self, images):\n",
    "        pass"
   ]
  },
  {
   "cell_type": "code",
   "execution_count": 78,
   "metadata": {
    "scrolled": true
   },
   "outputs": [],
   "source": [
    "def multimodal_normal(batch_size):\n",
    "    while True:\n",
    "        mean1 = [0, 0]\n",
    "        cov1 = [[1, 0], \n",
    "                [0, 1]]\n",
    "    \n",
    "        mean2 = [5, 5]\n",
    "        cov2 = [[0.2, -2], \n",
    "                [-2, 5]]\n",
    "\n",
    "        x = []\n",
    "        y = []\n",
    "        means = [mean1, mean2]\n",
    "        covs = [cov1, cov2]\n",
    "        for _ in range(batch_size):\n",
    "            i = np.random.randint(0,2)            \n",
    "            x1, y1 = np.random.multivariate_normal(means[i], covs[i], 1).T\n",
    "            x.append(x1)\n",
    "            y.append(y1)\n",
    "\n",
    "\n",
    "        samples = np.stack((x,y), axis=1)\n",
    "\n",
    "        yield samples\n",
    "        \n",
    "\n"
   ]
  },
  {
   "cell_type": "code",
   "execution_count": 90,
   "metadata": {},
   "outputs": [
    {
     "data": {
      "text/plain": [
       "(-5.0, 10.0)"
      ]
     },
     "execution_count": 90,
     "metadata": {},
     "output_type": "execute_result"
    },
    {
     "data": {
      "image/png": "[encoded data removed]",
      "text/plain": [
       "<Figure size 108x72 with 1 Axes>"
      ]
     },
     "metadata": {
      "needs_background": "light"
     },
     "output_type": "display_data"
    }
   ],
   "source": [
    "samples_gen = multimodal_normal(1000)\n",
    "samples = next(samples_gen)\n",
    "f, ax = plt.subplots(1, 1, figsize=(1*1.5, 1*1))\n",
    "\n",
    "ax.scatter(samples[:,0], samples[:,1], s=1, alpha=0.5)\n",
    "ax.set_xlim(-5, 10)\n",
    "ax.set_ylim(-5, 10)"
   ]
  },
  {
   "cell_type": "code",
   "execution_count": 97,
   "metadata": {
    "scrolled": false
   },
   "outputs": [
    {
     "name": "stdout",
     "output_type": "stream",
     "text": [
      "Step 0: d_loss 0.7559 g_loss 0.7155 Accuracy. real : 0.047 fake : 1.000\n",
      "(50000, 2)\n"
     ]
    },
    {
     "data": {
      "image/png": "[encoded data removed]",
      "text/plain": [
       "<Figure size 540x72 with 5 Axes>"
      ]
     },
     "metadata": {
      "needs_background": "light"
     },
     "output_type": "display_data"
    },
    {
     "name": "stdout",
     "output_type": "stream",
     "text": [
      "Step 1: d_loss 0.6237 g_loss 0.6594 Accuracy. real : 0.947 fake : 0.000\n",
      "(50000, 2)\n"
     ]
    },
    {
     "data": {
      "image/png": "[encoded data removed]",
      "text/plain": [
       "<Figure size 540x72 with 5 Axes>"
      ]
     },
     "metadata": {
      "needs_background": "light"
     },
     "output_type": "display_data"
    },
    {
     "name": "stdout",
     "output_type": "stream",
     "text": [
      "Step 2: d_loss 0.5635 g_loss 0.6860 Accuracy. real : 0.996 fake : 0.000\n",
      "(50000, 2)\n"
     ]
    },
    {
     "data": {
      "image/png": "[encoded data removed]",
      "text/plain": [
       "<Figure size 540x72 with 5 Axes>"
      ]
     },
     "metadata": {
      "needs_background": "light"
     },
     "output_type": "display_data"
    },
    {
     "name": "stdout",
     "output_type": "stream",
     "text": [
      "Step 3: d_loss 0.5419 g_loss 0.6960 Accuracy. real : 0.906 fake : 0.581\n",
      "(50000, 2)\n"
     ]
    },
    {
     "data": {
      "image/png": "[encoded data removed]",
      "text/plain": [
       "<Figure size 540x72 with 5 Axes>"
      ]
     },
     "metadata": {
      "needs_background": "light"
     },
     "output_type": "display_data"
    },
    {
     "name": "stdout",
     "output_type": "stream",
     "text": [
      "Step 4: d_loss 0.5993 g_loss 0.5811 Accuracy. real : 0.894 fake : 0.000\n",
      "(50000, 2)\n"
     ]
    },
    {
     "data": {
      "image/png": "[encoded data removed]",
      "text/plain": [
       "<Figure size 540x72 with 5 Axes>"
      ]
     },
     "metadata": {
      "needs_background": "light"
     },
     "output_type": "display_data"
    },
    {
     "name": "stdout",
     "output_type": "stream",
     "text": [
      "Step 5: d_loss 0.6862 g_loss 0.4732 Accuracy. real : 0.872 fake : 0.000\n",
      "(50000, 2)\n"
     ]
    },
    {
     "data": {
      "image/png": "[encoded data removed]",
      "text/plain": [
       "<Figure size 540x72 with 5 Axes>"
      ]
     },
     "metadata": {
      "needs_background": "light"
     },
     "output_type": "display_data"
    },
    {
     "name": "stdout",
     "output_type": "stream",
     "text": [
      "Step 6: d_loss 0.7562 g_loss 0.4269 Accuracy. real : 0.847 fake : 0.000\n",
      "(50000, 2)\n"
     ]
    },
    {
     "data": {
      "image/png": "[encoded data removed]",
      "text/plain": [
       "<Figure size 540x72 with 5 Axes>"
      ]
     },
     "metadata": {
      "needs_background": "light"
     },
     "output_type": "display_data"
    },
    {
     "name": "stdout",
     "output_type": "stream",
     "text": [
      "Step 7: d_loss 0.7844 g_loss 0.4470 Accuracy. real : 0.790 fake : 0.000\n",
      "(50000, 2)\n"
     ]
    },
    {
     "data": {
      "image/png": "[encoded data removed]",
      "text/plain": [
       "<Figure size 540x72 with 5 Axes>"
      ]
     },
     "metadata": {
      "needs_background": "light"
     },
     "output_type": "display_data"
    },
    {
     "name": "stdout",
     "output_type": "stream",
     "text": [
      "Step 8: d_loss 0.7971 g_loss 0.5047 Accuracy. real : 0.532 fake : 0.000\n",
      "(50000, 2)\n"
     ]
    },
    {
     "data": {
      "image/png": "[encoded data removed]",
      "text/plain": [
       "<Figure size 540x72 with 5 Axes>"
      ]
     },
     "metadata": {
      "needs_background": "light"
     },
     "output_type": "display_data"
    },
    {
     "name": "stdout",
     "output_type": "stream",
     "text": [
      "Step 9: d_loss 0.7713 g_loss 0.6213 Accuracy. real : 0.298 fake : 0.000\n",
      "(50000, 2)\n"
     ]
    },
    {
     "data": {
      "image/png": "[encoded data removed]",
      "text/plain": [
       "<Figure size 540x72 with 5 Axes>"
      ]
     },
     "metadata": {
      "needs_background": "light"
     },
     "output_type": "display_data"
    },
    {
     "name": "stdout",
     "output_type": "stream",
     "text": [
      "Step 10: d_loss 0.7058 g_loss 0.7990 Accuracy. real : 0.257 fake : 1.000\n",
      "(50000, 2)\n"
     ]
    },
    {
     "data": {
      "image/png": "[encoded data removed]",
      "text/plain": [
       "<Figure size 540x72 with 5 Axes>"
      ]
     },
     "metadata": {
      "needs_background": "light"
     },
     "output_type": "display_data"
    },
    {
     "name": "stdout",
     "output_type": "stream",
     "text": [
      "Step 11: d_loss 0.6156 g_loss 1.0572 Accuracy. real : 0.237 fake : 1.000\n",
      "(50000, 2)\n"
     ]
    },
    {
     "data": {
      "image/png": "[encoded data removed]",
      "text/plain": [
       "<Figure size 540x72 with 5 Axes>"
      ]
     },
     "metadata": {
      "needs_background": "light"
     },
     "output_type": "display_data"
    },
    {
     "name": "stdout",
     "output_type": "stream",
     "text": [
      "Step 12: d_loss 0.5497 g_loss 1.2106 Accuracy. real : 0.232 fake : 1.000\n",
      "(50000, 2)\n"
     ]
    },
    {
     "data": {
      "image/png": "[encoded data removed]",
      "text/plain": [
       "<Figure size 540x72 with 5 Axes>"
      ]
     },
     "metadata": {
      "needs_background": "light"
     },
     "output_type": "display_data"
    },
    {
     "name": "stdout",
     "output_type": "stream",
     "text": [
      "Step 13: d_loss 0.5128 g_loss 1.2227 Accuracy. real : 0.540 fake : 1.000\n",
      "(50000, 2)\n"
     ]
    },
    {
     "data": {
      "image/png": "[encoded data removed]",
      "text/plain": [
       "<Figure size 540x72 with 5 Axes>"
      ]
     },
     "metadata": {
      "needs_background": "light"
     },
     "output_type": "display_data"
    },
    {
     "name": "stdout",
     "output_type": "stream",
     "text": [
      "Step 14: d_loss 0.5097 g_loss 1.1024 Accuracy. real : 0.694 fake : 1.000\n",
      "(50000, 2)\n"
     ]
    },
    {
     "data": {
      "image/png": "[encoded data removed]",
      "text/plain": [
       "<Figure size 540x72 with 5 Axes>"
      ]
     },
     "metadata": {
      "needs_background": "light"
     },
     "output_type": "display_data"
    },
    {
     "name": "stdout",
     "output_type": "stream",
     "text": [
      "Step 15: d_loss 0.5279 g_loss 0.9519 Accuracy. real : 0.768 fake : 1.000\n",
      "(50000, 2)\n"
     ]
    },
    {
     "data": {
      "image/png": "[encoded data removed]",
      "text/plain": [
       "<Figure size 540x72 with 5 Axes>"
      ]
     },
     "metadata": {
      "needs_background": "light"
     },
     "output_type": "display_data"
    },
    {
     "name": "stdout",
     "output_type": "stream",
     "text": [
      "Step 16: d_loss 0.5845 g_loss 0.7567 Accuracy. real : 0.792 fake : 0.809\n",
      "(50000, 2)\n"
     ]
    },
    {
     "data": {
      "image/png": "[encoded data removed]",
      "text/plain": [
       "<Figure size 540x72 with 5 Axes>"
      ]
     },
     "metadata": {
      "needs_background": "light"
     },
     "output_type": "display_data"
    },
    {
     "name": "stdout",
     "output_type": "stream",
     "text": [
      "Step 17: d_loss 0.6561 g_loss 0.5982 Accuracy. real : 0.796 fake : 0.052\n",
      "(50000, 2)\n"
     ]
    },
    {
     "data": {
      "image/png": "[encoded data removed]",
      "text/plain": [
       "<Figure size 540x72 with 5 Axes>"
      ]
     },
     "metadata": {
      "needs_background": "light"
     },
     "output_type": "display_data"
    },
    {
     "name": "stdout",
     "output_type": "stream",
     "text": [
      "Step 18: d_loss 0.7219 g_loss 0.4906 Accuracy. real : 0.798 fake : 0.000\n",
      "(50000, 2)\n"
     ]
    },
    {
     "data": {
      "image/png": "[encoded data removed]",
      "text/plain": [
       "<Figure size 540x72 with 5 Axes>"
      ]
     },
     "metadata": {
      "needs_background": "light"
     },
     "output_type": "display_data"
    },
    {
     "name": "stdout",
     "output_type": "stream",
     "text": [
      "Step 19: d_loss 0.7437 g_loss 0.4559 Accuracy. real : 0.792 fake : 0.000\n",
      "(50000, 2)\n"
     ]
    },
    {
     "data": {
      "image/png": "[encoded data removed]",
      "text/plain": [
       "<Figure size 540x72 with 5 Axes>"
      ]
     },
     "metadata": {
      "needs_background": "light"
     },
     "output_type": "display_data"
    }
   ],
   "source": [
    "class VanillaGan(GAN):\n",
    "    def __init__(self, z_dim, input_shape):\n",
    "        \n",
    "        discriminator = self.Discriminator(input_shape)\n",
    "        generator = self.Generator(z_dim)\n",
    "        \n",
    "        GAN.__init__(self, generator, discriminator)\n",
    "        \n",
    "    def Discriminator(self, input_shape):\n",
    "        model = tf.keras.Sequential()\n",
    "        model.add(layers.Input(shape=input_shape))\n",
    "        model.add(layers.Dense(200, activation='relu'))\n",
    "        model.add(layers.Dense(50, activation='relu'))\n",
    "        model.add(layers.Dense(1, activation='sigmoid'))\n",
    "        return model\n",
    "\n",
    "    def Generator(self, z_dim):\n",
    "        model = tf.keras.Sequential()\n",
    "        model.add(layers.Input(shape=[z_dim]))\n",
    "        model.add(layers.Dense(200, activation='relu'))\n",
    "        model.add(layers.Dense(50, activation='relu'))\n",
    "        model.add(layers.Dense(2))\n",
    "        return model        \n",
    "    \n",
    "    def plot_images(self, images):   \n",
    "        grid_row = 1\n",
    "        grid_col = 5\n",
    "        f, ax = plt.subplots(grid_row, grid_col, figsize=(grid_col*1.5, grid_row*1))\n",
    "        print(images.shape)\n",
    "        for col in range(grid_col):\n",
    "            ax[col].scatter(images[col*10000:(col+1)*10000,0], \n",
    "                          images[col*10000:(col+1)*10000,1], s=1)\n",
    "            ax[col].set_xlim(-8, 8)\n",
    "            ax[col].set_ylim(-8, 8)\n",
    "            #axarr[col].axis('off') \n",
    "        plt.show()\n",
    "\n",
    "z_dim = 100\n",
    "image_shape = (2)\n",
    "batch_size = 50000\n",
    "\n",
    "def z_generator(batch_size, z_dim):\n",
    "    while True:\n",
    "         yield tf.random.uniform((batch_size, z_dim))\n",
    "            \n",
    "z_gen = z_generator(batch_size, z_dim)\n",
    "\n",
    "vanilla_gan = VanillaGan(z_dim, image_shape)\n",
    "vanilla_gan.train(multimodal_normal(batch_size), z_gen,\n",
    "                    RMSprop(1e-3), RMSprop(1e-3),\n",
    "                    20, 1)"
   ]
  }
 ],
 "metadata": {
  "kernelspec": {
   "display_name": "imgentf2",
   "language": "python",
   "name": "imgentf2"
  },
  "language_info": {
   "codemirror_mode": {
    "name": "ipython",
    "version": 3
   },
   "file_extension": ".py",
   "mimetype": "text/x-python",
   "name": "python",
   "nbconvert_exporter": "python",
   "pygments_lexer": "ipython3",
   "version": "3.6.9"
  }
 },
 "nbformat": 4,
 "nbformat_minor": 4
}
