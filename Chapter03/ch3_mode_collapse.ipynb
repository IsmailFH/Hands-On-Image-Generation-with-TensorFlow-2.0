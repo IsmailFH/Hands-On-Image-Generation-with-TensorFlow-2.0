{
 "cells": [
  {
   "cell_type": "code",
   "execution_count": 7,
   "metadata": {
    "scrolled": true
   },
   "outputs": [
    {
     "name": "stdout",
     "output_type": "stream",
     "text": [
      "Tensorflow 2.2.0\n"
     ]
    }
   ],
   "source": [
    "import tensorflow as tf\n",
    "from tensorflow.keras import layers, Model\n",
    "from tensorflow.keras.activations import relu\n",
    "from tensorflow.keras.models import Sequential, load_model\n",
    "from tensorflow.keras.losses import BinaryCrossentropy\n",
    "from tensorflow.keras.optimizers import RMSprop\n",
    "from tensorflow.keras.metrics import binary_accuracy\n",
    "import tensorflow_datasets as tfds\n",
    "\n",
    "import numpy as np\n",
    "import matplotlib.pyplot as plt\n",
    "import warnings\n",
    "warnings.filterwarnings('ignore')\n",
    "\n",
    "from gan import GAN\n",
    "\n",
    "print(\"Tensorflow\", tf.__version__)\n",
    "\n",
    "from packaging.version import parse as parse_version\n",
    "assert parse_version(tf.__version__) < parse_version(\"2.4.0\"), \\\n",
    "    \"Please install TensorFlow version 2.3.1 or older\""
   ]
  },
  {
   "cell_type": "code",
   "execution_count": 9,
   "metadata": {},
   "outputs": [],
   "source": [
    "class GAN():\n",
    "    def __init__(self, generator, discriminator):        \n",
    "        # discriminator\n",
    "        self.D = discriminator\n",
    "        self.G = generator\n",
    "\n",
    "        self.bce = tf.keras.losses.BinaryCrossentropy()\n",
    "        self.d_loss = {}\n",
    "        self.g_loss = {}\n",
    "        self.accuracy = {}        \n",
    "        self.g_gradients = []\n",
    "\n",
    "    def discriminator_loss(self, pred_fake, pred_real):\n",
    "        real_loss = self.bce(tf.ones_like(pred_real), pred_real)\n",
    "        fake_loss = self.bce(tf.zeros_like(pred_fake), pred_fake)\n",
    "        \n",
    "        d_loss = 0.5*(real_loss + fake_loss)\n",
    "        return d_loss\n",
    "    \n",
    "    def generator_loss(self, pred_fake):\n",
    "        g_loss = self.bce(tf.ones_like(pred_fake), pred_fake)\n",
    "        return g_loss\n",
    "    \n",
    "    def train_step(self, g_input, real_input):\n",
    "\n",
    "        with tf.GradientTape() as g_tape,\\\n",
    "             tf.GradientTape() as d_tape:\n",
    "            # Feed forward\n",
    "            fake_input = self.G(g_input)\n",
    "\n",
    "            pred_fake = self.D(fake_input)\n",
    "            pred_real = self.D(real_input)\n",
    "\n",
    "            # Calculate losses\n",
    "            d_loss = self.discriminator_loss(pred_fake, pred_real)\n",
    "            g_loss = self.generator_loss(pred_fake)\n",
    "            \n",
    "            # Accuracy\n",
    "            fake_accuracy = tf.math.reduce_mean(binary_accuracy(tf.zeros_like(pred_fake), pred_fake))\n",
    "            real_accuracy = tf.math.reduce_mean(binary_accuracy(tf.ones_like(pred_real), pred_real))\n",
    "            \n",
    "            # backprop gradients\n",
    "            gradient_g = g_tape.gradient(g_loss, self.G.trainable_variables)\n",
    "            gradient_d = d_tape.gradient(d_loss, self.D.trainable_variables)\n",
    "            \n",
    "            gradient_g_l1_norm = [tf.norm(gradient).numpy() for gradient in gradient_g]\n",
    "            self.g_gradients.append(gradient_g_l1_norm) \n",
    "            # update weights\n",
    "            self.G_optimizer.apply_gradients(zip(gradient_g, self.G.trainable_variables))\n",
    "            self.D_optimizer.apply_gradients(zip(gradient_d, self.D.trainable_variables))\n",
    "\n",
    "\n",
    "        return g_loss, d_loss, fake_accuracy, real_accuracy\n",
    "    \n",
    "    def train(self, data_generator, \n",
    "                    z_generator,\n",
    "                    g_optimizer, d_optimizer,\n",
    "                    steps, interval=100):\n",
    "        self.D_optimizer = d_optimizer\n",
    "        self.G_optimizer = g_optimizer          \n",
    "        val_g_input = next(z_generator)\n",
    "        for i in range(steps):\n",
    "            g_input = next(z_generator)\n",
    "            real_input = next(data_generator)\n",
    "            \n",
    "            g_loss, d_loss, fake_accuracy, real_accuracy = self.train_step(g_input, real_input)\n",
    "            self.d_loss[i] = d_loss.numpy()\n",
    "            self.g_loss[i] = g_loss.numpy()\n",
    "            self.accuracy[i] = 0.5*(fake_accuracy.numpy() + real_accuracy.numpy())\n",
    "            if i%interval == 0:\n",
    "                msg = \"Step {}: d_loss {:.4f} g_loss {:.4f} Accuracy. real : {:.3f} fake : {:.3f}\"\\\n",
    "                .format(i, d_loss, g_loss, real_accuracy, fake_accuracy)\n",
    "                print(msg)\n",
    "                \n",
    "                fake_images = self.G(val_g_input)\n",
    "                self.plot_images(fake_images)\n",
    "\n",
    "    def plot_images(self, images):\n",
    "        pass"
   ]
  },
  {
   "cell_type": "code",
   "execution_count": 10,
   "metadata": {
    "scrolled": true
   },
   "outputs": [],
   "source": [
    "def multimodal_normal(batch_size):\n",
    "    while True:\n",
    "        mean1 = [0, 0]\n",
    "        cov1 = [[1, 0], \n",
    "                [0, 1]]\n",
    "    \n",
    "        mean2 = [5, 5]\n",
    "        cov2 = [[0.2, -2], \n",
    "                [-2, 5]]\n",
    "\n",
    "        x = []\n",
    "        y = []\n",
    "        means = [mean1, mean2]\n",
    "        covs = [cov1, cov2]\n",
    "        for _ in range(batch_size):\n",
    "            i = np.random.randint(0,2)            \n",
    "            x1, y1 = np.random.multivariate_normal(means[i], covs[i], 1).T\n",
    "            x.append(x1)\n",
    "            y.append(y1)\n",
    "\n",
    "\n",
    "        samples = np.stack((x,y), axis=1)\n",
    "\n",
    "        yield samples\n",
    "        \n",
    "\n"
   ]
  },
  {
   "cell_type": "code",
   "execution_count": 11,
   "metadata": {},
   "outputs": [
    {
     "data": {
      "text/plain": [
       "(-5.0, 10.0)"
      ]
     },
     "execution_count": 11,
     "metadata": {},
     "output_type": "execute_result"
    },
    {
     "data": {
      "image/png": "[encoded data removed]",
      "text/plain": [
       "<Figure size 108x72 with 1 Axes>"
      ]
     },
     "metadata": {
      "needs_background": "light"
     },
     "output_type": "display_data"
    }
   ],
   "source": [
    "samples_gen = multimodal_normal(1000)\n",
    "samples = next(samples_gen)\n",
    "f, ax = plt.subplots(1, 1, figsize=(1*1.5, 1*1))\n",
    "\n",
    "ax.scatter(samples[:,0], samples[:,1], s=1, alpha=0.5)\n",
    "ax.set_xlim(-5, 10)\n",
    "ax.set_ylim(-5, 10)"
   ]
  },
  {
   "cell_type": "code",
   "execution_count": 12,
   "metadata": {
    "scrolled": false
   },
   "outputs": [
    {
     "name": "stdout",
     "output_type": "stream",
     "text": [
      "Step 0: d_loss 0.8858 g_loss 0.7003 Accuracy. real : 0.231 fake : 0.848\n",
      "(50000, 2)\n"
     ]
    },
    {
     "data": {
      "image/png": "[encoded data removed]",
      "text/plain": [
       "<Figure size 540x72 with 5 Axes>"
      ]
     },
     "metadata": {
      "needs_background": "light"
     },
     "output_type": "display_data"
    },
    {
     "name": "stdout",
     "output_type": "stream",
     "text": [
      "Step 1: d_loss 0.8053 g_loss 0.5635 Accuracy. real : 0.274 fake : 0.000\n",
      "(50000, 2)\n"
     ]
    },
    {
     "data": {
      "image/png": "[encoded data removed]",
      "text/plain": [
       "<Figure size 540x72 with 5 Axes>"
      ]
     },
     "metadata": {
      "needs_background": "light"
     },
     "output_type": "display_data"
    },
    {
     "name": "stdout",
     "output_type": "stream",
     "text": [
      "Step 2: d_loss 0.7019 g_loss 0.6158 Accuracy. real : 0.876 fake : 0.000\n",
      "(50000, 2)\n"
     ]
    },
    {
     "data": {
      "image/png": "[encoded data removed]",
      "text/plain": [
       "<Figure size 540x72 with 5 Axes>"
      ]
     },
     "metadata": {
      "needs_background": "light"
     },
     "output_type": "display_data"
    },
    {
     "name": "stdout",
     "output_type": "stream",
     "text": [
      "Step 3: d_loss 0.5869 g_loss 0.7668 Accuracy. real : 0.798 fake : 0.997\n",
      "(50000, 2)\n"
     ]
    },
    {
     "data": {
      "image/png": "[encoded data removed]",
      "text/plain": [
       "<Figure size 540x72 with 5 Axes>"
      ]
     },
     "metadata": {
      "needs_background": "light"
     },
     "output_type": "display_data"
    },
    {
     "name": "stdout",
     "output_type": "stream",
     "text": [
      "Step 4: d_loss 0.5621 g_loss 0.7733 Accuracy. real : 0.786 fake : 0.991\n",
      "(50000, 2)\n"
     ]
    },
    {
     "data": {
      "image/png": "[encoded data removed]",
      "text/plain": [
       "<Figure size 540x72 with 5 Axes>"
      ]
     },
     "metadata": {
      "needs_background": "light"
     },
     "output_type": "display_data"
    },
    {
     "name": "stdout",
     "output_type": "stream",
     "text": [
      "Step 5: d_loss 0.5645 g_loss 0.7431 Accuracy. real : 0.777 fake : 0.957\n",
      "(50000, 2)\n"
     ]
    },
    {
     "data": {
      "image/png": "[encoded data removed]",
      "text/plain": [
       "<Figure size 540x72 with 5 Axes>"
      ]
     },
     "metadata": {
      "needs_background": "light"
     },
     "output_type": "display_data"
    },
    {
     "name": "stdout",
     "output_type": "stream",
     "text": [
      "Step 6: d_loss 0.5532 g_loss 0.7573 Accuracy. real : 0.760 fake : 1.000\n",
      "(50000, 2)\n"
     ]
    },
    {
     "data": {
      "image/png": "[encoded data removed]",
      "text/plain": [
       "<Figure size 540x72 with 5 Axes>"
      ]
     },
     "metadata": {
      "needs_background": "light"
     },
     "output_type": "display_data"
    },
    {
     "name": "stdout",
     "output_type": "stream",
     "text": [
      "Step 7: d_loss 0.5306 g_loss 0.7990 Accuracy. real : 0.753 fake : 1.000\n",
      "(50000, 2)\n"
     ]
    },
    {
     "data": {
      "image/png": "[encoded data removed]",
      "text/plain": [
       "<Figure size 540x72 with 5 Axes>"
      ]
     },
     "metadata": {
      "needs_background": "light"
     },
     "output_type": "display_data"
    },
    {
     "name": "stdout",
     "output_type": "stream",
     "text": [
      "Step 8: d_loss 0.5393 g_loss 0.7708 Accuracy. real : 0.758 fake : 0.998\n",
      "(50000, 2)\n"
     ]
    },
    {
     "data": {
      "image/png": "[encoded data removed]",
      "text/plain": [
       "<Figure size 540x72 with 5 Axes>"
      ]
     },
     "metadata": {
      "needs_background": "light"
     },
     "output_type": "display_data"
    },
    {
     "name": "stdout",
     "output_type": "stream",
     "text": [
      "Step 9: d_loss 0.5924 g_loss 0.6602 Accuracy. real : 0.755 fake : 0.099\n",
      "(50000, 2)\n"
     ]
    },
    {
     "data": {
      "image/png": "[encoded data removed]",
      "text/plain": [
       "<Figure size 540x72 with 5 Axes>"
      ]
     },
     "metadata": {
      "needs_background": "light"
     },
     "output_type": "display_data"
    },
    {
     "name": "stdout",
     "output_type": "stream",
     "text": [
      "Step 10: d_loss 0.6446 g_loss 0.5731 Accuracy. real : 0.748 fake : 0.000\n",
      "(50000, 2)\n"
     ]
    },
    {
     "data": {
      "image/png": "[encoded data removed]",
      "text/plain": [
       "<Figure size 540x72 with 5 Axes>"
      ]
     },
     "metadata": {
      "needs_background": "light"
     },
     "output_type": "display_data"
    },
    {
     "name": "stdout",
     "output_type": "stream",
     "text": [
      "Step 11: d_loss 0.7205 g_loss 0.4827 Accuracy. real : 0.735 fake : 0.000\n",
      "(50000, 2)\n"
     ]
    },
    {
     "data": {
      "image/png": "[encoded data removed]",
      "text/plain": [
       "<Figure size 540x72 with 5 Axes>"
      ]
     },
     "metadata": {
      "needs_background": "light"
     },
     "output_type": "display_data"
    },
    {
     "name": "stdout",
     "output_type": "stream",
     "text": [
      "Step 12: d_loss 0.8106 g_loss 0.4032 Accuracy. real : 0.711 fake : 0.000\n",
      "(50000, 2)\n"
     ]
    },
    {
     "data": {
      "image/png": "[encoded data removed]",
      "text/plain": [
       "<Figure size 540x72 with 5 Axes>"
      ]
     },
     "metadata": {
      "needs_background": "light"
     },
     "output_type": "display_data"
    },
    {
     "name": "stdout",
     "output_type": "stream",
     "text": [
      "Step 13: d_loss 0.8677 g_loss 0.3672 Accuracy. real : 0.699 fake : 0.000\n",
      "(50000, 2)\n"
     ]
    },
    {
     "data": {
      "image/png": "[encoded data removed]",
      "text/plain": [
       "<Figure size 540x72 with 5 Axes>"
      ]
     },
     "metadata": {
      "needs_background": "light"
     },
     "output_type": "display_data"
    },
    {
     "name": "stdout",
     "output_type": "stream",
     "text": [
      "Step 14: d_loss 0.8569 g_loss 0.3984 Accuracy. real : 0.676 fake : 0.000\n",
      "(50000, 2)\n"
     ]
    },
    {
     "data": {
      "image/png": "[encoded data removed]",
      "text/plain": [
       "<Figure size 540x72 with 5 Axes>"
      ]
     },
     "metadata": {
      "needs_background": "light"
     },
     "output_type": "display_data"
    },
    {
     "name": "stdout",
     "output_type": "stream",
     "text": [
      "Step 15: d_loss 0.8024 g_loss 0.4805 Accuracy. real : 0.653 fake : 0.000\n",
      "(50000, 2)\n"
     ]
    },
    {
     "data": {
      "image/png": "[encoded data removed]",
      "text/plain": [
       "<Figure size 540x72 with 5 Axes>"
      ]
     },
     "metadata": {
      "needs_background": "light"
     },
     "output_type": "display_data"
    },
    {
     "name": "stdout",
     "output_type": "stream",
     "text": [
      "Step 16: d_loss 0.7144 g_loss 0.6328 Accuracy. real : 0.608 fake : 0.000\n",
      "(50000, 2)\n"
     ]
    },
    {
     "data": {
      "image/png": "[encoded data removed]",
      "text/plain": [
       "<Figure size 540x72 with 5 Axes>"
      ]
     },
     "metadata": {
      "needs_background": "light"
     },
     "output_type": "display_data"
    },
    {
     "name": "stdout",
     "output_type": "stream",
     "text": [
      "Step 17: d_loss 0.6277 g_loss 0.8210 Accuracy. real : 0.548 fake : 1.000\n",
      "(50000, 2)\n"
     ]
    },
    {
     "data": {
      "image/png": "[encoded data removed]",
      "text/plain": [
       "<Figure size 540x72 with 5 Axes>"
      ]
     },
     "metadata": {
      "needs_background": "light"
     },
     "output_type": "display_data"
    },
    {
     "name": "stdout",
     "output_type": "stream",
     "text": [
      "Step 18: d_loss 0.5636 g_loss 0.9891 Accuracy. real : 0.534 fake : 1.000\n",
      "(50000, 2)\n"
     ]
    },
    {
     "data": {
      "image/png": "[encoded data removed]",
      "text/plain": [
       "<Figure size 540x72 with 5 Axes>"
      ]
     },
     "metadata": {
      "needs_background": "light"
     },
     "output_type": "display_data"
    },
    {
     "name": "stdout",
     "output_type": "stream",
     "text": [
      "Step 19: d_loss 0.5411 g_loss 1.0220 Accuracy. real : 0.558 fake : 1.000\n",
      "(50000, 2)\n"
     ]
    },
    {
     "data": {
      "image/png": "[encoded data removed]",
      "text/plain": [
       "<Figure size 540x72 with 5 Axes>"
      ]
     },
     "metadata": {
      "needs_background": "light"
     },
     "output_type": "display_data"
    }
   ],
   "source": [
    "class VanillaGan(GAN):\n",
    "    def __init__(self, z_dim, input_shape):\n",
    "        \n",
    "        discriminator = self.Discriminator(input_shape)\n",
    "        generator = self.Generator(z_dim)\n",
    "        \n",
    "        GAN.__init__(self, generator, discriminator)\n",
    "        \n",
    "    def Discriminator(self, input_shape):\n",
    "        model = tf.keras.Sequential()\n",
    "        model.add(layers.Input(shape=input_shape))\n",
    "        model.add(layers.Dense(200, activation='relu'))\n",
    "        model.add(layers.Dense(50, activation='relu'))\n",
    "        model.add(layers.Dense(1, activation='sigmoid'))\n",
    "        return model\n",
    "\n",
    "    def Generator(self, z_dim):\n",
    "        model = tf.keras.Sequential()\n",
    "        model.add(layers.Input(shape=[z_dim]))\n",
    "        model.add(layers.Dense(200, activation='relu'))\n",
    "        model.add(layers.Dense(50, activation='relu'))\n",
    "        model.add(layers.Dense(2))\n",
    "        return model        \n",
    "    \n",
    "    def plot_images(self, images):   \n",
    "        grid_row = 1\n",
    "        grid_col = 5\n",
    "        f, ax = plt.subplots(grid_row, grid_col, figsize=(grid_col*1.5, grid_row*1))\n",
    "        print(images.shape)\n",
    "        for col in range(grid_col):\n",
    "            ax[col].scatter(images[col*10000:(col+1)*10000,0], \n",
    "                          images[col*10000:(col+1)*10000,1], s=1)\n",
    "            ax[col].set_xlim(-8, 8)\n",
    "            ax[col].set_ylim(-8, 8)\n",
    "            #axarr[col].axis('off') \n",
    "        plt.show()\n",
    "\n",
    "z_dim = 100\n",
    "image_shape = (2)\n",
    "batch_size = 50000\n",
    "\n",
    "def z_generator(batch_size, z_dim):\n",
    "    while True:\n",
    "         yield tf.random.uniform((batch_size, z_dim))\n",
    "            \n",
    "z_gen = z_generator(batch_size, z_dim)\n",
    "\n",
    "vanilla_gan = VanillaGan(z_dim, image_shape)\n",
    "vanilla_gan.train(multimodal_normal(batch_size), z_gen,\n",
    "                    RMSprop(1e-3), RMSprop(1e-3),\n",
    "                    20, 1)"
   ]
  }
 ],
 "metadata": {
  "kernelspec": {
   "display_name": "imgentf2",
   "language": "python",
   "name": "imgentf2"
  },
  "language_info": {
   "codemirror_mode": {
    "name": "ipython",
    "version": 3
   },
   "file_extension": ".py",
   "mimetype": "text/x-python",
   "name": "python",
   "nbconvert_exporter": "python",
   "pygments_lexer": "ipython3",
   "version": "3.6.9"
  }
 },
 "nbformat": 4,
 "nbformat_minor": 4
}
